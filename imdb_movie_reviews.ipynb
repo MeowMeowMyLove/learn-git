{
  "nbformat": 4,
  "nbformat_minor": 0,
  "metadata": {
    "colab": {
      "name": "imdb_movie_reviews.ipynb",
      "provenance": [],
      "include_colab_link": true
    },
    "kernelspec": {
      "name": "python3",
      "display_name": "Python 3"
    },
    "language_info": {
      "name": "python"
    }
  },
  "cells": [
    {
      "cell_type": "markdown",
      "metadata": {
        "id": "view-in-github",
        "colab_type": "text"
      },
      "source": [
        "<a href=\"https://colab.research.google.com/github/MeowMeowMyLove/learn-git/blob/main/imdb_movie_reviews.ipynb\" target=\"_parent\"><img src=\"https://colab.research.google.com/assets/colab-badge.svg\" alt=\"Open In Colab\"/></a>"
      ]
    },
    {
      "cell_type": "markdown",
      "source": [
        "# Explainable Sentence-Level Sentiment Analysis\n",
        "Final project for \"Deep Natural Language Processing\" course @ PoliTO – a.y. 2021-2022\n",
        "\n",
        "GitHub project page: [https://github.com/gallipoligiuseppe/SentiModel](https://github.com/gallipoligiuseppe/SentiModel)"
      ],
      "metadata": {
        "id": "EWE7y7IPaH1j"
      }
    },
    {
      "cell_type": "markdown",
      "source": [
        "*Please remember to run this notebook selecting a GPU runtime*"
      ],
      "metadata": {
        "id": "wI9RObcjjJ12"
      }
    },
    {
      "cell_type": "markdown",
      "source": [
        "### Code setup and requirements installation"
      ],
      "metadata": {
        "id": "qRPOh9fza5OV"
      }
    },
    {
      "cell_type": "code",
      "source": [
        "!git clone https://github.com/gallipoligiuseppe/SentiModel.git\n",
        "%cd SentiModel\n",
        "!pip install -r requirements.txt"
      ],
      "metadata": {
        "id": "QMRN6B9gbZJE"
      },
      "execution_count": null,
      "outputs": []
    },
    {
      "cell_type": "code",
      "source": [
        "import logging, sys\n",
        "from main import *\n",
        "\n",
        "logging.basicConfig(stream=sys.stdout, format='%(message)s', level=logging.INFO)"
      ],
      "metadata": {
        "id": "v3KjnzaTdikR"
      },
      "execution_count": null,
      "outputs": []
    },
    {
      "cell_type": "markdown",
      "source": [
        "## Experiments on IMDb Movie Reviews Dataset"
      ],
      "metadata": {
        "id": "FSrv3lwOkwos"
      }
    },
    {
      "cell_type": "markdown",
      "source": [
        "## Model training"
      ],
      "metadata": {
        "id": "Rbe3i0B0dnp1"
      }
    },
    {
      "cell_type": "code",
      "source": [
        "config = 'train --dataset imdb --encoder bert --n_epochs 8 --batch_size 34 --dropout_rate 0.2'\n",
        "\n",
        "# If aspect terms, sentimental words and sentiment lexicon were computed in a previous execution, you can add --load_data parameter"
      ],
      "metadata": {
        "id": "JigxL0Dxdw8x"
      },
      "execution_count": null,
      "outputs": []
    },
    {
      "cell_type": "code",
      "source": [
        "config = config.split(' ')\n",
        "args = arg_parser(config)\n",
        "init_path(args)\n",
        "\n",
        "main(args)"
      ],
      "metadata": {
        "id": "gv9ayIpCfias"
      },
      "execution_count": null,
      "outputs": []
    },
    {
      "cell_type": "markdown",
      "source": [
        "## Model evaluation"
      ],
      "metadata": {
        "id": "etLBIu1xgUT6"
      }
    },
    {
      "cell_type": "code",
      "source": [
        "config = 'test --dataset imdb --encoder bert --from_pretrained <pretrained_path> --load_data'\n",
        "\n",
        "# Please specify the path of a previous training execution to load the corresponding model's weights"
      ],
      "metadata": {
        "id": "qtfrNThrgdES"
      },
      "execution_count": null,
      "outputs": []
    },
    {
      "cell_type": "code",
      "source": [
        "config = config.split(' ')\n",
        "args = arg_parser(config)\n",
        "init_path(args)\n",
        "\n",
        "main(args)"
      ],
      "metadata": {
        "id": "8mzytvEqhC3-"
      },
      "execution_count": null,
      "outputs": []
    },
    {
      "cell_type": "markdown",
      "source": [
        "## Baselines"
      ],
      "metadata": {
        "id": "gko67RbYhS9n"
      }
    },
    {
      "cell_type": "markdown",
      "source": [
        "### SVM evaluation"
      ],
      "metadata": {
        "id": "35A9ENm3h1l4"
      }
    },
    {
      "cell_type": "code",
      "source": [
        "config = 'baseline svm --dataset imdb'"
      ],
      "metadata": {
        "id": "U5gmzumrhe15"
      },
      "execution_count": null,
      "outputs": []
    },
    {
      "cell_type": "code",
      "source": [
        "config = config.split(' ')\n",
        "args = arg_parser(config)\n",
        "init_path(args)\n",
        "\n",
        "main(args)"
      ],
      "metadata": {
        "id": "a5Ekeq20hsvP"
      },
      "execution_count": null,
      "outputs": []
    },
    {
      "cell_type": "markdown",
      "source": [
        "### Naive Bayes evaluation"
      ],
      "metadata": {
        "id": "acCTZmcthu8T"
      }
    },
    {
      "cell_type": "code",
      "source": [
        "config = 'baseline nb --dataset imdb'"
      ],
      "metadata": {
        "id": "Wpn7ag3thxbj"
      },
      "execution_count": null,
      "outputs": []
    },
    {
      "cell_type": "code",
      "source": [
        "config = config.split(' ')\n",
        "args = arg_parser(config)\n",
        "init_path(args)\n",
        "\n",
        "main(args)"
      ],
      "metadata": {
        "id": "_42kvCVdh5hQ"
      },
      "execution_count": null,
      "outputs": []
    },
    {
      "cell_type": "markdown",
      "source": [
        "### LSTM training"
      ],
      "metadata": {
        "id": "efDbppg7h8fL"
      }
    },
    {
      "cell_type": "code",
      "source": [
        "config = 'baseline lstm train --dataset imdb --encoder bert --n_epochs 8 --batch_size 34 --dropout_rate 0.2'\n",
        "\n",
        "# If aspect terms, sentimental words and sentiment lexicon were computed in a previous execution, you can add --load_data parameter"
      ],
      "metadata": {
        "id": "_HebKqytiEVl"
      },
      "execution_count": null,
      "outputs": []
    },
    {
      "cell_type": "code",
      "source": [
        "config = config.split(' ')\n",
        "args = arg_parser(config)\n",
        "init_path(args)\n",
        "\n",
        "main(args)"
      ],
      "metadata": {
        "id": "TwtA8oEgiNED"
      },
      "execution_count": null,
      "outputs": []
    },
    {
      "cell_type": "markdown",
      "source": [
        "### LSTM evaluation"
      ],
      "metadata": {
        "id": "RpxWbOaciSYJ"
      }
    },
    {
      "cell_type": "code",
      "source": [
        "config = 'baseline lstm test --dataset imdb --encoder bert --from_pretrained <pretrained_path> --load_data'\n",
        "\n",
        "# Please specify the path of a previous training execution to load the corresponding model's weights"
      ],
      "metadata": {
        "id": "WjSznJediaKT"
      },
      "execution_count": null,
      "outputs": []
    },
    {
      "cell_type": "code",
      "source": [
        "config = config.split(' ')\n",
        "args = arg_parser(config)\n",
        "init_path(args)\n",
        "\n",
        "main(args)"
      ],
      "metadata": {
        "id": "ETTL8DW8if2q"
      },
      "execution_count": null,
      "outputs": []
    }
  ]
}